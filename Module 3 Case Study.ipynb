{
 "cells": [
  {
   "cell_type": "code",
   "execution_count": 1,
   "id": "dec16662",
   "metadata": {},
   "outputs": [
    {
     "name": "stdout",
     "output_type": "stream",
     "text": [
      "What is your vehicle type?: trucl\n",
      "What is the make of your vehicle?: chevy\n",
      "What is the model of your vehicle?: silverado\n",
      "What is the year of your vehicle?: 2022\n",
      "What is the number of doors on your vehicle, 2 or 4?: 4\n",
      "What type of roof does your vehicle have, solid or sun roof?: solid\n",
      "Vehicle type:trucl\n",
      "Vehicle make:chevy\n",
      "Vehicle model:silverado\n",
      "Vehicle year:2022\n",
      "Vehicle doors:4\n",
      "Vehicle roof:solid\n"
     ]
    }
   ],
   "source": [
    "# Program Name: Module 3 Case Study\n",
    "# Author: Heather Zarate\n",
    "# Date: 09/11/2022\n",
    "\n",
    "# Create Vehicle super class\n",
    "class  Vehicle:\n",
    "    def __init__(self, type):\n",
    "        self.type = type #attributes\n",
    "\n",
    "vehicle1 = Vehicle('car')\n",
    "vehicle2 = Vehicle('truck')\n",
    "vehicle3 = Vehicle('SUV')\n",
    "vehicle4 = Vehicle('broomstick')\n",
    "\n",
    "\n",
    "# Create automobile class\n",
    "class Automobile(Vehicle):\n",
    "    def __init__(self, year, make, model, doors, roof):\n",
    "        self.year = year #attributes\n",
    "        self.make = make\n",
    "        self.model = model\n",
    "        self.doors = doors\n",
    "        self.roof = roof\n",
    "\n",
    "# Get input from the user\n",
    "\n",
    "vehicle_type = input(\"What is your vehicle type?: \")\n",
    "vehicle_make = input(\"What is the make of your vehicle?: \")\n",
    "vehicle_model = input(\"What is the model of your vehicle?: \")\n",
    "vehicle_year = input(\"What is the year of your vehicle?: \")\n",
    "vehicle_doors = input(\"What is the number of doors on your vehicle, 2 or 4?: \")\n",
    "vehicle_roof = input(\"What type of roof does your vehicle have, solid or sun roof?: \")\n",
    "\n",
    "print(\"Vehicle type:\" + vehicle_type)\n",
    "print(\"Vehicle make:\" + vehicle_make)\n",
    "print(\"Vehicle model:\" + vehicle_model)\n",
    "print(\"Vehicle year:\" + vehicle_year)\n",
    "print(\"Vehicle doors:\" + vehicle_doors)\n",
    "print(\"Vehicle roof:\" + vehicle_roof)"
   ]
  },
  {
   "cell_type": "code",
   "execution_count": null,
   "id": "63d0465b",
   "metadata": {},
   "outputs": [],
   "source": []
  }
 ],
 "metadata": {
  "kernelspec": {
   "display_name": "Python 3 (ipykernel)",
   "language": "python",
   "name": "python3"
  },
  "language_info": {
   "codemirror_mode": {
    "name": "ipython",
    "version": 3
   },
   "file_extension": ".py",
   "mimetype": "text/x-python",
   "name": "python",
   "nbconvert_exporter": "python",
   "pygments_lexer": "ipython3",
   "version": "3.9.12"
  }
 },
 "nbformat": 4,
 "nbformat_minor": 5
}
