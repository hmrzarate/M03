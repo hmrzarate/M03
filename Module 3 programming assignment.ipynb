{
 "cells": [
  {
   "cell_type": "code",
   "execution_count": 50,
   "id": "a35e093c",
   "metadata": {},
   "outputs": [
    {
     "name": "stdout",
     "output_type": "stream",
     "text": [
      "['mozzarella', 'Cinderella', 'salmonella']\n",
      "['MOZZARELLA', 'Cinderella', 'salmonella']\n",
      "['MOZZARELLA', 'Cinderella']\n",
      "[['Harry', 'Ron', 'Hermione']]\n",
      "<function get_odds at 0x000001A2FB2035E0>\n"
     ]
    }
   ],
   "source": [
    "# Program Name: ZARATE_HEATHER_M03\n",
    "# Author: Heather Zarate\n",
    "# Date: 9/9/2022\n",
    "\n",
    "# 7.4 activity\n",
    "\n",
    "things = [\"mozzarella\", \"cinderella\", \"salmonella\"]\n",
    "\n",
    "# 7.5 activity\n",
    "\n",
    "things = [\"mozzarella\", \"Cinderella\", \"salmonella\"]\n",
    "print(things)\n",
    "\n",
    "# 7.6 activity\n",
    "\n",
    "things = [\"MOZZARELLA\", \"Cinderella\", \"salmonella\"]\n",
    "print(things)\n",
    "\n",
    "# 7.7 activity \n",
    "\n",
    "things = [\"MOZZARELLA\", \"Cinderella\"]\n",
    "print(things)\n",
    "\n",
    "# 9.1 activity\n",
    "\n",
    "def good():\n",
    "    str = [\"Harry\", \"Ron\", \"Hermione\"]\n",
    "    return [str]\n",
    "\n",
    "\n",
    "data = good()\n",
    "print(data)\n",
    "\n",
    "# 9.2 activity\n",
    "\n",
    "def get_odds():\n",
    "    start, end = 0, 10\n",
    " \n",
    "    # iterating each number in list\n",
    "    for num in range(start, end + 1):\n",
    "     \n",
    "    # checking condition\n",
    "        if num % 2 != 0:\n",
    "            print(num, end = \" \")\n",
    "            \n",
    "data = get_odds\n",
    "print(data)\n",
    "\n",
    "    \n",
    "            \n",
    "    \n",
    "\n",
    " \n",
    "\n",
    "    \n",
    "        \n",
    "    "
   ]
  },
  {
   "cell_type": "code",
   "execution_count": null,
   "id": "9e6b48f2",
   "metadata": {},
   "outputs": [],
   "source": []
  },
  {
   "cell_type": "code",
   "execution_count": null,
   "id": "5c920111",
   "metadata": {},
   "outputs": [],
   "source": []
  }
 ],
 "metadata": {
  "kernelspec": {
   "display_name": "Python 3 (ipykernel)",
   "language": "python",
   "name": "python3"
  },
  "language_info": {
   "codemirror_mode": {
    "name": "ipython",
    "version": 3
   },
   "file_extension": ".py",
   "mimetype": "text/x-python",
   "name": "python",
   "nbconvert_exporter": "python",
   "pygments_lexer": "ipython3",
   "version": "3.9.12"
  }
 },
 "nbformat": 4,
 "nbformat_minor": 5
}
