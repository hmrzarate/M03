{
 "cells": [
  {
   "cell_type": "code",
   "execution_count": 7,
   "id": "5439621d",
   "metadata": {},
   "outputs": [
    {
     "name": "stdout",
     "output_type": "stream",
     "text": [
      "<__main__.Pets object at 0x000001BC6813DC70>\n"
     ]
    }
   ],
   "source": [
    "class Pets:\n",
    "    def __init__(self, animals):\n",
    "        self.animals = animals \n",
    "        \n",
    "    \n",
    "\n",
    "class Cat(Pets):\n",
    "    is_lazy = True\n",
    "    \n",
    "    def __init__(self, name, age):\n",
    "        self.name = name\n",
    "        self.age = age\n",
    "\n",
    "    \n",
    "class Gizmo(Cat):\n",
    "     def sing(self, sounds):\n",
    "        return f'{sounds}'\n",
    "    \n",
    "class Fluffy(Cat):\n",
    "     def sing(self, sounds):\n",
    "        return f'{sounds}'\n",
    "    \n",
    "class Critter(Cat):\n",
    "     def sing(self, sounds):\n",
    "        return f'{sounds}'\n",
    "    \n",
    "my_cats = [Gizmo, Fluffy, Critter]\n",
    "\n",
    "my_pets = Pets(my_cats)\n",
    "\n",
    "print(my_pets)"
   ]
  },
  {
   "cell_type": "code",
   "execution_count": null,
   "id": "6c21d722",
   "metadata": {},
   "outputs": [],
   "source": []
  },
  {
   "cell_type": "code",
   "execution_count": null,
   "id": "2f9a0b35",
   "metadata": {},
   "outputs": [],
   "source": []
  }
 ],
 "metadata": {
  "kernelspec": {
   "display_name": "Python 3 (ipykernel)",
   "language": "python",
   "name": "python3"
  },
  "language_info": {
   "codemirror_mode": {
    "name": "ipython",
    "version": 3
   },
   "file_extension": ".py",
   "mimetype": "text/x-python",
   "name": "python",
   "nbconvert_exporter": "python",
   "pygments_lexer": "ipython3",
   "version": "3.9.12"
  }
 },
 "nbformat": 4,
 "nbformat_minor": 5
}
